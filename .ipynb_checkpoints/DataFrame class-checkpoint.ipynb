{
 "cells": [
  {
   "cell_type": "markdown",
   "id": "034c6933",
   "metadata": {},
   "source": [
    "<h2><img src=\"https://www.pentagonspace.in/assets/images/logo/logo-dark.png\" alt=\"pentagonspace.com/\" align=left></h2>\n",
    "<div class=\"a\" align=right>\n",
    "    <font style=\"border:white; border-width:10px; border-style:outset;\"width=\"100\" height=\"100\" color=\"green\" > \n",
    "Class Notes </font>\n",
    "</div >\n",
    "\n",
    "<div id=\"myCarousel\" class=\"carousel slide text-center\" data-ride=\"carousel\">\n",
    "\n",
    "  <div class=\"carousel-inner\" role=\"listbox\">\n",
    "    <div class=\"item active\">\n",
    "    <h3 style=\"color: blue;\">DataFrame(Pandas)</h3>\n",
    "    </div>\n",
    "  </div>"
   ]
  },
  {
   "cell_type": "markdown",
   "id": "3c1b06af",
   "metadata": {},
   "source": [
    "# **`DataFrame`**  \n",
    "\n",
    "A Pandas DataFrame is a 2 dimensional data structure, like a 2 dimensional array, or a table with rows and columns."
   ]
  },
  {
   "cell_type": "markdown",
   "id": "596f2d16",
   "metadata": {},
   "source": [
    "<h2><img src=\"https://www.tutorialspoint.com/python_pandas/images/structure_table.jpg\" align=left></h2>\n"
   ]
  },
  {
   "cell_type": "markdown",
   "id": "444a1cc1",
   "metadata": {},
   "source": [
    "A pandas DataFrame can be created using the following constructor −  \n",
    ">`pandas.DataFrame( data, index, columns, dtype, copy)`"
   ]
  },
  {
   "cell_type": "markdown",
   "id": "99af0191",
   "metadata": {},
   "source": [
    "**Parameter & Description**  \n",
    "1.**data**  \n",
    ">data takes various forms like ndarray, series, map, lists, dict, constants and also another DataFrame.\n",
    "\n",
    "2.**index**  \n",
    ">For the row labels, the Index to be used for the resulting frame is Optional Default np.arange(n) if no index is passed.\n",
    "\n",
    "3.**columns**  \n",
    ">For column labels, the optional default syntax is - np.arange(n). This is only true if no index is passed.\n",
    "\n",
    "4.**dtype**  \n",
    ">Data type of each column."
   ]
  },
  {
   "cell_type": "code",
   "execution_count": null,
   "id": "fb0fc9ed",
   "metadata": {},
   "outputs": [],
   "source": []
  }
 ],
 "metadata": {
  "kernelspec": {
   "display_name": "Python 3 (ipykernel)",
   "language": "python",
   "name": "python3"
  },
  "language_info": {
   "codemirror_mode": {
    "name": "ipython",
    "version": 3
   },
   "file_extension": ".py",
   "mimetype": "text/x-python",
   "name": "python",
   "nbconvert_exporter": "python",
   "pygments_lexer": "ipython3",
   "version": "3.8.11"
  }
 },
 "nbformat": 4,
 "nbformat_minor": 5
}
