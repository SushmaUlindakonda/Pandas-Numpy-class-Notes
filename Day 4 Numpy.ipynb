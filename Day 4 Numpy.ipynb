{
 "cells": [
  {
   "cell_type": "markdown",
   "id": "57e9cf33",
   "metadata": {},
   "source": [
    "<h2><img src=\"https://www.pentagonspace.in/assets/images/logo/logo-dark.png\" alt=\"pentagonspace.com/\" align=left></h2>\n",
    "<div class=\"a\" align=right>\n",
    "    <font style=\"border:white; border-width:10px; border-style:outset;\"width=\"100\" height=\"100\" color=\"green\" > \n",
    "Class Notes </font>\n",
    "</div >\n",
    "\n",
    "<div id=\"myCarousel\" class=\"carousel slide text-center\" data-ride=\"carousel\">\n",
    "\n",
    "  <div class=\"carousel-inner\" role=\"listbox\">\n",
    "    <div class=\"item active\">\n",
    "    <h3 style=\"color: blue;\">Numpy</h3>\n",
    "    </div>\n",
    "  </div>"
   ]
  },
  {
   "cell_type": "markdown",
   "id": "72717e3b",
   "metadata": {},
   "source": [
    "# NumPy? "
   ]
  },
  {
   "cell_type": "markdown",
   "id": "2e685114",
   "metadata": {},
   "source": [
    "NumPy is a Python library used for working with arrays.  \n",
    "It also has functions for working in domain of linear algebra, fourier transform, and matrices.  \n",
    "NumPy stands for Numerical Python.  "
   ]
  },
  {
   "cell_type": "markdown",
   "id": "5db14566",
   "metadata": {},
   "source": [
    "**Installation of NumPy**  \n",
    "Install it using this command:  \n",
    ">`C:\\Users\\Your Name>pip install numpy`"
   ]
  },
  {
   "cell_type": "code",
   "execution_count": null,
   "id": "f7a70fd8",
   "metadata": {},
   "outputs": [],
   "source": []
  }
 ],
 "metadata": {
  "kernelspec": {
   "display_name": "Python 3 (ipykernel)",
   "language": "python",
   "name": "python3"
  },
  "language_info": {
   "codemirror_mode": {
    "name": "ipython",
    "version": 3
   },
   "file_extension": ".py",
   "mimetype": "text/x-python",
   "name": "python",
   "nbconvert_exporter": "python",
   "pygments_lexer": "ipython3",
   "version": "3.8.11"
  }
 },
 "nbformat": 4,
 "nbformat_minor": 5
}
