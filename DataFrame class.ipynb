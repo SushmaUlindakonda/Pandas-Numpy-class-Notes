{
 "cells": [
  {
   "cell_type": "markdown",
   "id": "034c6933",
   "metadata": {},
   "source": [
    "<h2><img src=\"https://www.pentagonspace.in/assets/images/logo/logo-dark.png\" alt=\"pentagonspace.com/\" align=left></h2>\n",
    "<div class=\"a\" align=right>\n",
    "    <font style=\"border:white; border-width:10px; border-style:outset;\"width=\"100\" height=\"100\" color=\"green\" > \n",
    "Class Notes </font>\n",
    "</div >\n",
    "\n",
    "<div id=\"myCarousel\" class=\"carousel slide text-center\" data-ride=\"carousel\">\n",
    "\n",
    "  <div class=\"carousel-inner\" role=\"listbox\">\n",
    "    <div class=\"item active\">\n",
    "    <h3 style=\"color: blue;\">DataFrame(Pandas)</h3>\n",
    "    </div>\n",
    "  </div>"
   ]
  },
  {
   "cell_type": "markdown",
   "id": "3c1b06af",
   "metadata": {},
   "source": [
    "# **`DataFrame`**  \n",
    "\n",
    "A Pandas DataFrame is a 2 dimensional data structure, like a 2 dimensional array, or a table with rows and columns."
   ]
  },
  {
   "cell_type": "markdown",
   "id": "596f2d16",
   "metadata": {},
   "source": [
    "<h2><img src=\"https://www.tutorialspoint.com/python_pandas/images/structure_table.jpg\" align=left></h2>\n"
   ]
  },
  {
   "cell_type": "markdown",
   "id": "444a1cc1",
   "metadata": {},
   "source": [
    "A pandas DataFrame can be created using the following constructor −  \n",
    ">`pandas.DataFrame( data, index, columns, dtype)`"
   ]
  },
  {
   "cell_type": "markdown",
   "id": "99af0191",
   "metadata": {},
   "source": [
    "**Parameter & Description**  \n",
    "1.**data**  \n",
    ">data takes various forms like ndarray, series, map, lists, dict, constants and also another DataFrame.\n",
    "\n",
    "2.**index**  \n",
    ">For the row labels, the Index to be used for the resulting frame is Optional Default np.arange(n) if no index is passed.\n",
    "\n",
    "3.**columns**  \n",
    ">For column labels, the optional default syntax is - np.arange(n). This is only true if no index is passed.\n",
    "\n",
    "4.**dtype**  \n",
    ">Data type of each column."
   ]
  },
  {
   "cell_type": "code",
   "execution_count": 30,
   "id": "fb0fc9ed",
   "metadata": {},
   "outputs": [],
   "source": [
    "import pandas as pd"
   ]
  },
  {
   "cell_type": "code",
   "execution_count": 31,
   "id": "96e60ba1",
   "metadata": {},
   "outputs": [],
   "source": [
    "data = pd.DataFrame()"
   ]
  },
  {
   "cell_type": "code",
   "execution_count": 33,
   "id": "4704f98d",
   "metadata": {},
   "outputs": [
    {
     "data": {
      "text/plain": [
       "pandas.core.frame.DataFrame"
      ]
     },
     "execution_count": 33,
     "metadata": {},
     "output_type": "execute_result"
    }
   ],
   "source": [
    "type(data)"
   ]
  },
  {
   "cell_type": "code",
   "execution_count": 34,
   "id": "d2782950",
   "metadata": {},
   "outputs": [],
   "source": [
    "kk = [3,4,5,6,7,8,8]\n",
    "dataset = pd.DataFrame(kk)"
   ]
  },
  {
   "cell_type": "code",
   "execution_count": 35,
   "id": "4efaefee",
   "metadata": {},
   "outputs": [
    {
     "data": {
      "text/html": [
       "<div>\n",
       "<style scoped>\n",
       "    .dataframe tbody tr th:only-of-type {\n",
       "        vertical-align: middle;\n",
       "    }\n",
       "\n",
       "    .dataframe tbody tr th {\n",
       "        vertical-align: top;\n",
       "    }\n",
       "\n",
       "    .dataframe thead th {\n",
       "        text-align: right;\n",
       "    }\n",
       "</style>\n",
       "<table border=\"1\" class=\"dataframe\">\n",
       "  <thead>\n",
       "    <tr style=\"text-align: right;\">\n",
       "      <th></th>\n",
       "      <th>0</th>\n",
       "    </tr>\n",
       "  </thead>\n",
       "  <tbody>\n",
       "    <tr>\n",
       "      <th>0</th>\n",
       "      <td>3</td>\n",
       "    </tr>\n",
       "    <tr>\n",
       "      <th>1</th>\n",
       "      <td>4</td>\n",
       "    </tr>\n",
       "    <tr>\n",
       "      <th>2</th>\n",
       "      <td>5</td>\n",
       "    </tr>\n",
       "    <tr>\n",
       "      <th>3</th>\n",
       "      <td>6</td>\n",
       "    </tr>\n",
       "    <tr>\n",
       "      <th>4</th>\n",
       "      <td>7</td>\n",
       "    </tr>\n",
       "    <tr>\n",
       "      <th>5</th>\n",
       "      <td>8</td>\n",
       "    </tr>\n",
       "    <tr>\n",
       "      <th>6</th>\n",
       "      <td>8</td>\n",
       "    </tr>\n",
       "  </tbody>\n",
       "</table>\n",
       "</div>"
      ],
      "text/plain": [
       "   0\n",
       "0  3\n",
       "1  4\n",
       "2  5\n",
       "3  6\n",
       "4  7\n",
       "5  8\n",
       "6  8"
      ]
     },
     "execution_count": 35,
     "metadata": {},
     "output_type": "execute_result"
    }
   ],
   "source": [
    "dataset"
   ]
  },
  {
   "cell_type": "code",
   "execution_count": 56,
   "id": "7f760e84",
   "metadata": {},
   "outputs": [],
   "source": [
    "import numpy as np\n",
    "data = pd.DataFrame(np.random.rand(7,5),index = [2,3,4,5,6,7,8],columns = ['A','B','C','D','E'])"
   ]
  },
  {
   "cell_type": "code",
   "execution_count": 57,
   "id": "e05c4a12",
   "metadata": {},
   "outputs": [
    {
     "data": {
      "text/html": [
       "<div>\n",
       "<style scoped>\n",
       "    .dataframe tbody tr th:only-of-type {\n",
       "        vertical-align: middle;\n",
       "    }\n",
       "\n",
       "    .dataframe tbody tr th {\n",
       "        vertical-align: top;\n",
       "    }\n",
       "\n",
       "    .dataframe thead th {\n",
       "        text-align: right;\n",
       "    }\n",
       "</style>\n",
       "<table border=\"1\" class=\"dataframe\">\n",
       "  <thead>\n",
       "    <tr style=\"text-align: right;\">\n",
       "      <th></th>\n",
       "      <th>A</th>\n",
       "      <th>B</th>\n",
       "      <th>C</th>\n",
       "      <th>D</th>\n",
       "      <th>E</th>\n",
       "    </tr>\n",
       "  </thead>\n",
       "  <tbody>\n",
       "    <tr>\n",
       "      <th>2</th>\n",
       "      <td>0.331782</td>\n",
       "      <td>0.578931</td>\n",
       "      <td>0.421668</td>\n",
       "      <td>0.554302</td>\n",
       "      <td>0.688782</td>\n",
       "    </tr>\n",
       "    <tr>\n",
       "      <th>3</th>\n",
       "      <td>0.111390</td>\n",
       "      <td>0.271162</td>\n",
       "      <td>0.353366</td>\n",
       "      <td>0.756214</td>\n",
       "      <td>0.295971</td>\n",
       "    </tr>\n",
       "    <tr>\n",
       "      <th>4</th>\n",
       "      <td>0.576562</td>\n",
       "      <td>0.350241</td>\n",
       "      <td>0.917954</td>\n",
       "      <td>0.642662</td>\n",
       "      <td>0.720267</td>\n",
       "    </tr>\n",
       "    <tr>\n",
       "      <th>5</th>\n",
       "      <td>0.289159</td>\n",
       "      <td>0.184825</td>\n",
       "      <td>0.230553</td>\n",
       "      <td>0.514704</td>\n",
       "      <td>0.305607</td>\n",
       "    </tr>\n",
       "    <tr>\n",
       "      <th>6</th>\n",
       "      <td>0.698882</td>\n",
       "      <td>0.309116</td>\n",
       "      <td>0.087460</td>\n",
       "      <td>0.449317</td>\n",
       "      <td>0.703072</td>\n",
       "    </tr>\n",
       "    <tr>\n",
       "      <th>7</th>\n",
       "      <td>0.804077</td>\n",
       "      <td>0.283481</td>\n",
       "      <td>0.765389</td>\n",
       "      <td>0.136029</td>\n",
       "      <td>0.701991</td>\n",
       "    </tr>\n",
       "    <tr>\n",
       "      <th>8</th>\n",
       "      <td>0.865601</td>\n",
       "      <td>0.217189</td>\n",
       "      <td>0.538861</td>\n",
       "      <td>0.124101</td>\n",
       "      <td>0.769602</td>\n",
       "    </tr>\n",
       "  </tbody>\n",
       "</table>\n",
       "</div>"
      ],
      "text/plain": [
       "          A         B         C         D         E\n",
       "2  0.331782  0.578931  0.421668  0.554302  0.688782\n",
       "3  0.111390  0.271162  0.353366  0.756214  0.295971\n",
       "4  0.576562  0.350241  0.917954  0.642662  0.720267\n",
       "5  0.289159  0.184825  0.230553  0.514704  0.305607\n",
       "6  0.698882  0.309116  0.087460  0.449317  0.703072\n",
       "7  0.804077  0.283481  0.765389  0.136029  0.701991\n",
       "8  0.865601  0.217189  0.538861  0.124101  0.769602"
      ]
     },
     "execution_count": 57,
     "metadata": {},
     "output_type": "execute_result"
    }
   ],
   "source": [
    "data"
   ]
  },
  {
   "cell_type": "code",
   "execution_count": 58,
   "id": "51c8b43f",
   "metadata": {},
   "outputs": [
    {
     "name": "stdout",
     "output_type": "stream",
     "text": [
      "<class 'pandas.core.frame.DataFrame'>\n",
      "Int64Index: 7 entries, 2 to 8\n",
      "Data columns (total 5 columns):\n",
      " #   Column  Non-Null Count  Dtype  \n",
      "---  ------  --------------  -----  \n",
      " 0   A       7 non-null      float64\n",
      " 1   B       7 non-null      float64\n",
      " 2   C       7 non-null      float64\n",
      " 3   D       7 non-null      float64\n",
      " 4   E       7 non-null      float64\n",
      "dtypes: float64(5)\n",
      "memory usage: 336.0 bytes\n"
     ]
    }
   ],
   "source": [
    "data.info()"
   ]
  },
  {
   "cell_type": "code",
   "execution_count": 47,
   "id": "e25fd51a",
   "metadata": {},
   "outputs": [],
   "source": [
    "data['A'] = data['A'].astype('int64')"
   ]
  },
  {
   "cell_type": "code",
   "execution_count": 59,
   "id": "dc5e304f",
   "metadata": {},
   "outputs": [
    {
     "name": "stdout",
     "output_type": "stream",
     "text": [
      "<class 'pandas.core.frame.DataFrame'>\n",
      "Int64Index: 7 entries, 2 to 8\n",
      "Data columns (total 5 columns):\n",
      " #   Column  Non-Null Count  Dtype  \n",
      "---  ------  --------------  -----  \n",
      " 0   A       7 non-null      float64\n",
      " 1   B       7 non-null      float64\n",
      " 2   C       7 non-null      float64\n",
      " 3   D       7 non-null      float64\n",
      " 4   E       7 non-null      float64\n",
      "dtypes: float64(5)\n",
      "memory usage: 336.0 bytes\n"
     ]
    }
   ],
   "source": [
    "data.info()"
   ]
  },
  {
   "cell_type": "code",
   "execution_count": 60,
   "id": "80c8cca3",
   "metadata": {},
   "outputs": [
    {
     "data": {
      "text/html": [
       "<div>\n",
       "<style scoped>\n",
       "    .dataframe tbody tr th:only-of-type {\n",
       "        vertical-align: middle;\n",
       "    }\n",
       "\n",
       "    .dataframe tbody tr th {\n",
       "        vertical-align: top;\n",
       "    }\n",
       "\n",
       "    .dataframe thead th {\n",
       "        text-align: right;\n",
       "    }\n",
       "</style>\n",
       "<table border=\"1\" class=\"dataframe\">\n",
       "  <thead>\n",
       "    <tr style=\"text-align: right;\">\n",
       "      <th></th>\n",
       "      <th>A</th>\n",
       "      <th>B</th>\n",
       "      <th>C</th>\n",
       "      <th>D</th>\n",
       "      <th>E</th>\n",
       "    </tr>\n",
       "  </thead>\n",
       "  <tbody>\n",
       "    <tr>\n",
       "      <th>2</th>\n",
       "      <td>0.331782</td>\n",
       "      <td>0.578931</td>\n",
       "      <td>0.421668</td>\n",
       "      <td>0.554302</td>\n",
       "      <td>0.688782</td>\n",
       "    </tr>\n",
       "    <tr>\n",
       "      <th>3</th>\n",
       "      <td>0.111390</td>\n",
       "      <td>0.271162</td>\n",
       "      <td>0.353366</td>\n",
       "      <td>0.756214</td>\n",
       "      <td>0.295971</td>\n",
       "    </tr>\n",
       "    <tr>\n",
       "      <th>4</th>\n",
       "      <td>0.576562</td>\n",
       "      <td>0.350241</td>\n",
       "      <td>0.917954</td>\n",
       "      <td>0.642662</td>\n",
       "      <td>0.720267</td>\n",
       "    </tr>\n",
       "    <tr>\n",
       "      <th>5</th>\n",
       "      <td>0.289159</td>\n",
       "      <td>0.184825</td>\n",
       "      <td>0.230553</td>\n",
       "      <td>0.514704</td>\n",
       "      <td>0.305607</td>\n",
       "    </tr>\n",
       "    <tr>\n",
       "      <th>6</th>\n",
       "      <td>0.698882</td>\n",
       "      <td>0.309116</td>\n",
       "      <td>0.087460</td>\n",
       "      <td>0.449317</td>\n",
       "      <td>0.703072</td>\n",
       "    </tr>\n",
       "    <tr>\n",
       "      <th>7</th>\n",
       "      <td>0.804077</td>\n",
       "      <td>0.283481</td>\n",
       "      <td>0.765389</td>\n",
       "      <td>0.136029</td>\n",
       "      <td>0.701991</td>\n",
       "    </tr>\n",
       "    <tr>\n",
       "      <th>8</th>\n",
       "      <td>0.865601</td>\n",
       "      <td>0.217189</td>\n",
       "      <td>0.538861</td>\n",
       "      <td>0.124101</td>\n",
       "      <td>0.769602</td>\n",
       "    </tr>\n",
       "  </tbody>\n",
       "</table>\n",
       "</div>"
      ],
      "text/plain": [
       "          A         B         C         D         E\n",
       "2  0.331782  0.578931  0.421668  0.554302  0.688782\n",
       "3  0.111390  0.271162  0.353366  0.756214  0.295971\n",
       "4  0.576562  0.350241  0.917954  0.642662  0.720267\n",
       "5  0.289159  0.184825  0.230553  0.514704  0.305607\n",
       "6  0.698882  0.309116  0.087460  0.449317  0.703072\n",
       "7  0.804077  0.283481  0.765389  0.136029  0.701991\n",
       "8  0.865601  0.217189  0.538861  0.124101  0.769602"
      ]
     },
     "execution_count": 60,
     "metadata": {},
     "output_type": "execute_result"
    }
   ],
   "source": [
    "data.head(10)"
   ]
  },
  {
   "cell_type": "code",
   "execution_count": 61,
   "id": "0d909287",
   "metadata": {},
   "outputs": [
    {
     "data": {
      "text/html": [
       "<div>\n",
       "<style scoped>\n",
       "    .dataframe tbody tr th:only-of-type {\n",
       "        vertical-align: middle;\n",
       "    }\n",
       "\n",
       "    .dataframe tbody tr th {\n",
       "        vertical-align: top;\n",
       "    }\n",
       "\n",
       "    .dataframe thead th {\n",
       "        text-align: right;\n",
       "    }\n",
       "</style>\n",
       "<table border=\"1\" class=\"dataframe\">\n",
       "  <thead>\n",
       "    <tr style=\"text-align: right;\">\n",
       "      <th></th>\n",
       "      <th>A</th>\n",
       "      <th>B</th>\n",
       "      <th>C</th>\n",
       "      <th>D</th>\n",
       "      <th>E</th>\n",
       "    </tr>\n",
       "  </thead>\n",
       "  <tbody>\n",
       "    <tr>\n",
       "      <th>7</th>\n",
       "      <td>0.804077</td>\n",
       "      <td>0.283481</td>\n",
       "      <td>0.765389</td>\n",
       "      <td>0.136029</td>\n",
       "      <td>0.701991</td>\n",
       "    </tr>\n",
       "    <tr>\n",
       "      <th>8</th>\n",
       "      <td>0.865601</td>\n",
       "      <td>0.217189</td>\n",
       "      <td>0.538861</td>\n",
       "      <td>0.124101</td>\n",
       "      <td>0.769602</td>\n",
       "    </tr>\n",
       "  </tbody>\n",
       "</table>\n",
       "</div>"
      ],
      "text/plain": [
       "          A         B         C         D         E\n",
       "7  0.804077  0.283481  0.765389  0.136029  0.701991\n",
       "8  0.865601  0.217189  0.538861  0.124101  0.769602"
      ]
     },
     "execution_count": 61,
     "metadata": {},
     "output_type": "execute_result"
    }
   ],
   "source": [
    "data.tail(2)"
   ]
  },
  {
   "cell_type": "code",
   "execution_count": 62,
   "id": "5cdb9d23",
   "metadata": {},
   "outputs": [
    {
     "data": {
      "text/html": [
       "<div>\n",
       "<style scoped>\n",
       "    .dataframe tbody tr th:only-of-type {\n",
       "        vertical-align: middle;\n",
       "    }\n",
       "\n",
       "    .dataframe tbody tr th {\n",
       "        vertical-align: top;\n",
       "    }\n",
       "\n",
       "    .dataframe thead th {\n",
       "        text-align: right;\n",
       "    }\n",
       "</style>\n",
       "<table border=\"1\" class=\"dataframe\">\n",
       "  <thead>\n",
       "    <tr style=\"text-align: right;\">\n",
       "      <th></th>\n",
       "      <th>A</th>\n",
       "      <th>B</th>\n",
       "      <th>C</th>\n",
       "      <th>D</th>\n",
       "      <th>E</th>\n",
       "    </tr>\n",
       "  </thead>\n",
       "  <tbody>\n",
       "    <tr>\n",
       "      <th>count</th>\n",
       "      <td>7.000000</td>\n",
       "      <td>7.000000</td>\n",
       "      <td>7.000000</td>\n",
       "      <td>7.000000</td>\n",
       "      <td>7.000000</td>\n",
       "    </tr>\n",
       "    <tr>\n",
       "      <th>mean</th>\n",
       "      <td>0.525350</td>\n",
       "      <td>0.313564</td>\n",
       "      <td>0.473607</td>\n",
       "      <td>0.453904</td>\n",
       "      <td>0.597899</td>\n",
       "    </tr>\n",
       "    <tr>\n",
       "      <th>std</th>\n",
       "      <td>0.286011</td>\n",
       "      <td>0.129325</td>\n",
       "      <td>0.292170</td>\n",
       "      <td>0.241741</td>\n",
       "      <td>0.204616</td>\n",
       "    </tr>\n",
       "    <tr>\n",
       "      <th>min</th>\n",
       "      <td>0.111390</td>\n",
       "      <td>0.184825</td>\n",
       "      <td>0.087460</td>\n",
       "      <td>0.124101</td>\n",
       "      <td>0.295971</td>\n",
       "    </tr>\n",
       "    <tr>\n",
       "      <th>25%</th>\n",
       "      <td>0.310470</td>\n",
       "      <td>0.244176</td>\n",
       "      <td>0.291959</td>\n",
       "      <td>0.292673</td>\n",
       "      <td>0.497195</td>\n",
       "    </tr>\n",
       "    <tr>\n",
       "      <th>50%</th>\n",
       "      <td>0.576562</td>\n",
       "      <td>0.283481</td>\n",
       "      <td>0.421668</td>\n",
       "      <td>0.514704</td>\n",
       "      <td>0.701991</td>\n",
       "    </tr>\n",
       "    <tr>\n",
       "      <th>75%</th>\n",
       "      <td>0.751479</td>\n",
       "      <td>0.329679</td>\n",
       "      <td>0.652125</td>\n",
       "      <td>0.598482</td>\n",
       "      <td>0.711669</td>\n",
       "    </tr>\n",
       "    <tr>\n",
       "      <th>max</th>\n",
       "      <td>0.865601</td>\n",
       "      <td>0.578931</td>\n",
       "      <td>0.917954</td>\n",
       "      <td>0.756214</td>\n",
       "      <td>0.769602</td>\n",
       "    </tr>\n",
       "  </tbody>\n",
       "</table>\n",
       "</div>"
      ],
      "text/plain": [
       "              A         B         C         D         E\n",
       "count  7.000000  7.000000  7.000000  7.000000  7.000000\n",
       "mean   0.525350  0.313564  0.473607  0.453904  0.597899\n",
       "std    0.286011  0.129325  0.292170  0.241741  0.204616\n",
       "min    0.111390  0.184825  0.087460  0.124101  0.295971\n",
       "25%    0.310470  0.244176  0.291959  0.292673  0.497195\n",
       "50%    0.576562  0.283481  0.421668  0.514704  0.701991\n",
       "75%    0.751479  0.329679  0.652125  0.598482  0.711669\n",
       "max    0.865601  0.578931  0.917954  0.756214  0.769602"
      ]
     },
     "execution_count": 62,
     "metadata": {},
     "output_type": "execute_result"
    }
   ],
   "source": [
    "data.describe()"
   ]
  },
  {
   "cell_type": "code",
   "execution_count": 63,
   "id": "178e7309",
   "metadata": {},
   "outputs": [
    {
     "data": {
      "text/plain": [
       "Index(['A', 'B', 'C', 'D', 'E'], dtype='object')"
      ]
     },
     "execution_count": 63,
     "metadata": {},
     "output_type": "execute_result"
    }
   ],
   "source": [
    "data.columns"
   ]
  },
  {
   "cell_type": "code",
   "execution_count": 64,
   "id": "c454c3ce",
   "metadata": {},
   "outputs": [
    {
     "data": {
      "text/plain": [
       "Int64Index([2, 3, 4, 5, 6, 7, 8], dtype='int64')"
      ]
     },
     "execution_count": 64,
     "metadata": {},
     "output_type": "execute_result"
    }
   ],
   "source": [
    "data.index"
   ]
  },
  {
   "cell_type": "code",
   "execution_count": 67,
   "id": "5bf9f49a",
   "metadata": {},
   "outputs": [
    {
     "data": {
      "text/html": [
       "<div>\n",
       "<style scoped>\n",
       "    .dataframe tbody tr th:only-of-type {\n",
       "        vertical-align: middle;\n",
       "    }\n",
       "\n",
       "    .dataframe tbody tr th {\n",
       "        vertical-align: top;\n",
       "    }\n",
       "\n",
       "    .dataframe thead th {\n",
       "        text-align: right;\n",
       "    }\n",
       "</style>\n",
       "<table border=\"1\" class=\"dataframe\">\n",
       "  <thead>\n",
       "    <tr style=\"text-align: right;\">\n",
       "      <th></th>\n",
       "      <th>C</th>\n",
       "      <th>D</th>\n",
       "    </tr>\n",
       "  </thead>\n",
       "  <tbody>\n",
       "    <tr>\n",
       "      <th>2</th>\n",
       "      <td>0.421668</td>\n",
       "      <td>0.554302</td>\n",
       "    </tr>\n",
       "    <tr>\n",
       "      <th>3</th>\n",
       "      <td>0.353366</td>\n",
       "      <td>0.756214</td>\n",
       "    </tr>\n",
       "    <tr>\n",
       "      <th>4</th>\n",
       "      <td>0.917954</td>\n",
       "      <td>0.642662</td>\n",
       "    </tr>\n",
       "    <tr>\n",
       "      <th>5</th>\n",
       "      <td>0.230553</td>\n",
       "      <td>0.514704</td>\n",
       "    </tr>\n",
       "    <tr>\n",
       "      <th>6</th>\n",
       "      <td>0.087460</td>\n",
       "      <td>0.449317</td>\n",
       "    </tr>\n",
       "    <tr>\n",
       "      <th>7</th>\n",
       "      <td>0.765389</td>\n",
       "      <td>0.136029</td>\n",
       "    </tr>\n",
       "    <tr>\n",
       "      <th>8</th>\n",
       "      <td>0.538861</td>\n",
       "      <td>0.124101</td>\n",
       "    </tr>\n",
       "  </tbody>\n",
       "</table>\n",
       "</div>"
      ],
      "text/plain": [
       "          C         D\n",
       "2  0.421668  0.554302\n",
       "3  0.353366  0.756214\n",
       "4  0.917954  0.642662\n",
       "5  0.230553  0.514704\n",
       "6  0.087460  0.449317\n",
       "7  0.765389  0.136029\n",
       "8  0.538861  0.124101"
      ]
     },
     "execution_count": 67,
     "metadata": {},
     "output_type": "execute_result"
    }
   ],
   "source": [
    "data[['C','D']]"
   ]
  },
  {
   "cell_type": "code",
   "execution_count": 70,
   "id": "8d230017",
   "metadata": {},
   "outputs": [
    {
     "data": {
      "text/html": [
       "<div>\n",
       "<style scoped>\n",
       "    .dataframe tbody tr th:only-of-type {\n",
       "        vertical-align: middle;\n",
       "    }\n",
       "\n",
       "    .dataframe tbody tr th {\n",
       "        vertical-align: top;\n",
       "    }\n",
       "\n",
       "    .dataframe thead th {\n",
       "        text-align: right;\n",
       "    }\n",
       "</style>\n",
       "<table border=\"1\" class=\"dataframe\">\n",
       "  <thead>\n",
       "    <tr style=\"text-align: right;\">\n",
       "      <th></th>\n",
       "      <th>E</th>\n",
       "      <th>D</th>\n",
       "      <th>C</th>\n",
       "      <th>B</th>\n",
       "      <th>A</th>\n",
       "    </tr>\n",
       "  </thead>\n",
       "  <tbody>\n",
       "    <tr>\n",
       "      <th>2</th>\n",
       "      <td>0.688782</td>\n",
       "      <td>0.554302</td>\n",
       "      <td>0.421668</td>\n",
       "      <td>0.578931</td>\n",
       "      <td>0.331782</td>\n",
       "    </tr>\n",
       "    <tr>\n",
       "      <th>3</th>\n",
       "      <td>0.295971</td>\n",
       "      <td>0.756214</td>\n",
       "      <td>0.353366</td>\n",
       "      <td>0.271162</td>\n",
       "      <td>0.111390</td>\n",
       "    </tr>\n",
       "    <tr>\n",
       "      <th>4</th>\n",
       "      <td>0.720267</td>\n",
       "      <td>0.642662</td>\n",
       "      <td>0.917954</td>\n",
       "      <td>0.350241</td>\n",
       "      <td>0.576562</td>\n",
       "    </tr>\n",
       "    <tr>\n",
       "      <th>5</th>\n",
       "      <td>0.305607</td>\n",
       "      <td>0.514704</td>\n",
       "      <td>0.230553</td>\n",
       "      <td>0.184825</td>\n",
       "      <td>0.289159</td>\n",
       "    </tr>\n",
       "    <tr>\n",
       "      <th>6</th>\n",
       "      <td>0.703072</td>\n",
       "      <td>0.449317</td>\n",
       "      <td>0.087460</td>\n",
       "      <td>0.309116</td>\n",
       "      <td>0.698882</td>\n",
       "    </tr>\n",
       "    <tr>\n",
       "      <th>7</th>\n",
       "      <td>0.701991</td>\n",
       "      <td>0.136029</td>\n",
       "      <td>0.765389</td>\n",
       "      <td>0.283481</td>\n",
       "      <td>0.804077</td>\n",
       "    </tr>\n",
       "    <tr>\n",
       "      <th>8</th>\n",
       "      <td>0.769602</td>\n",
       "      <td>0.124101</td>\n",
       "      <td>0.538861</td>\n",
       "      <td>0.217189</td>\n",
       "      <td>0.865601</td>\n",
       "    </tr>\n",
       "  </tbody>\n",
       "</table>\n",
       "</div>"
      ],
      "text/plain": [
       "          E         D         C         B         A\n",
       "2  0.688782  0.554302  0.421668  0.578931  0.331782\n",
       "3  0.295971  0.756214  0.353366  0.271162  0.111390\n",
       "4  0.720267  0.642662  0.917954  0.350241  0.576562\n",
       "5  0.305607  0.514704  0.230553  0.184825  0.289159\n",
       "6  0.703072  0.449317  0.087460  0.309116  0.698882\n",
       "7  0.701991  0.136029  0.765389  0.283481  0.804077\n",
       "8  0.769602  0.124101  0.538861  0.217189  0.865601"
      ]
     },
     "execution_count": 70,
     "metadata": {},
     "output_type": "execute_result"
    }
   ],
   "source": [
    "data.sort_index(axis = 1, ascending = False)"
   ]
  },
  {
   "cell_type": "code",
   "execution_count": 71,
   "id": "d12d1e71",
   "metadata": {},
   "outputs": [
    {
     "data": {
      "text/html": [
       "<div>\n",
       "<style scoped>\n",
       "    .dataframe tbody tr th:only-of-type {\n",
       "        vertical-align: middle;\n",
       "    }\n",
       "\n",
       "    .dataframe tbody tr th {\n",
       "        vertical-align: top;\n",
       "    }\n",
       "\n",
       "    .dataframe thead th {\n",
       "        text-align: right;\n",
       "    }\n",
       "</style>\n",
       "<table border=\"1\" class=\"dataframe\">\n",
       "  <thead>\n",
       "    <tr style=\"text-align: right;\">\n",
       "      <th></th>\n",
       "      <th>A</th>\n",
       "      <th>B</th>\n",
       "      <th>C</th>\n",
       "      <th>D</th>\n",
       "      <th>E</th>\n",
       "    </tr>\n",
       "  </thead>\n",
       "  <tbody>\n",
       "    <tr>\n",
       "      <th>2</th>\n",
       "      <td>0.331782</td>\n",
       "      <td>0.578931</td>\n",
       "      <td>0.421668</td>\n",
       "      <td>0.554302</td>\n",
       "      <td>0.688782</td>\n",
       "    </tr>\n",
       "    <tr>\n",
       "      <th>3</th>\n",
       "      <td>0.111390</td>\n",
       "      <td>0.271162</td>\n",
       "      <td>0.353366</td>\n",
       "      <td>0.756214</td>\n",
       "      <td>0.295971</td>\n",
       "    </tr>\n",
       "    <tr>\n",
       "      <th>4</th>\n",
       "      <td>0.576562</td>\n",
       "      <td>0.350241</td>\n",
       "      <td>0.917954</td>\n",
       "      <td>0.642662</td>\n",
       "      <td>0.720267</td>\n",
       "    </tr>\n",
       "    <tr>\n",
       "      <th>5</th>\n",
       "      <td>0.289159</td>\n",
       "      <td>0.184825</td>\n",
       "      <td>0.230553</td>\n",
       "      <td>0.514704</td>\n",
       "      <td>0.305607</td>\n",
       "    </tr>\n",
       "    <tr>\n",
       "      <th>6</th>\n",
       "      <td>0.698882</td>\n",
       "      <td>0.309116</td>\n",
       "      <td>0.087460</td>\n",
       "      <td>0.449317</td>\n",
       "      <td>0.703072</td>\n",
       "    </tr>\n",
       "    <tr>\n",
       "      <th>7</th>\n",
       "      <td>0.804077</td>\n",
       "      <td>0.283481</td>\n",
       "      <td>0.765389</td>\n",
       "      <td>0.136029</td>\n",
       "      <td>0.701991</td>\n",
       "    </tr>\n",
       "    <tr>\n",
       "      <th>8</th>\n",
       "      <td>0.865601</td>\n",
       "      <td>0.217189</td>\n",
       "      <td>0.538861</td>\n",
       "      <td>0.124101</td>\n",
       "      <td>0.769602</td>\n",
       "    </tr>\n",
       "  </tbody>\n",
       "</table>\n",
       "</div>"
      ],
      "text/plain": [
       "          A         B         C         D         E\n",
       "2  0.331782  0.578931  0.421668  0.554302  0.688782\n",
       "3  0.111390  0.271162  0.353366  0.756214  0.295971\n",
       "4  0.576562  0.350241  0.917954  0.642662  0.720267\n",
       "5  0.289159  0.184825  0.230553  0.514704  0.305607\n",
       "6  0.698882  0.309116  0.087460  0.449317  0.703072\n",
       "7  0.804077  0.283481  0.765389  0.136029  0.701991\n",
       "8  0.865601  0.217189  0.538861  0.124101  0.769602"
      ]
     },
     "execution_count": 71,
     "metadata": {},
     "output_type": "execute_result"
    }
   ],
   "source": [
    "data"
   ]
  },
  {
   "cell_type": "code",
   "execution_count": 72,
   "id": "4bf4308f",
   "metadata": {},
   "outputs": [
    {
     "data": {
      "text/plain": [
       "0.3317818165515033"
      ]
     },
     "execution_count": 72,
     "metadata": {},
     "output_type": "execute_result"
    }
   ],
   "source": [
    "data['A'][2]"
   ]
  },
  {
   "cell_type": "code",
   "execution_count": 73,
   "id": "b232d8e2",
   "metadata": {},
   "outputs": [
    {
     "data": {
      "text/plain": [
       "0.9179539288269523"
      ]
     },
     "execution_count": 73,
     "metadata": {},
     "output_type": "execute_result"
    }
   ],
   "source": [
    "data['C'][4]"
   ]
  },
  {
   "cell_type": "code",
   "execution_count": null,
   "id": "c02fe728",
   "metadata": {},
   "outputs": [],
   "source": []
  }
 ],
 "metadata": {
  "kernelspec": {
   "display_name": "Python 3 (ipykernel)",
   "language": "python",
   "name": "python3"
  },
  "language_info": {
   "codemirror_mode": {
    "name": "ipython",
    "version": 3
   },
   "file_extension": ".py",
   "mimetype": "text/x-python",
   "name": "python",
   "nbconvert_exporter": "python",
   "pygments_lexer": "ipython3",
   "version": "3.8.11"
  }
 },
 "nbformat": 4,
 "nbformat_minor": 5
}
